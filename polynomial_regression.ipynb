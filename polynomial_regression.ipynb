{
 "cells": [
  {
   "cell_type": "markdown",
   "metadata": {},
   "source": [
    "#### Polynomial regression for trq_margin"
   ]
  },
  {
   "cell_type": "code",
   "execution_count": 6,
   "metadata": {},
   "outputs": [
    {
     "name": "stdout",
     "output_type": "stream",
     "text": [
      "Inizio dell'addestramento del modello Decision Tree...\n",
      "Mean Squared Error: 428.9292151535153\n",
      "R^2: -1.1477299207180067\n"
     ]
    }
   ],
   "source": [
    "import pandas as pd\n",
    "import numpy as np\n",
    "import lightgbm as lgb\n",
    "from sklearn.ensemble import RandomForestRegressor\n",
    "from sklearn.model_selection import train_test_split\n",
    "from sklearn.linear_model import LinearRegression\n",
    "from sklearn.metrics import mean_squared_error, r2_score\n",
    "from sklearn.tree import DecisionTreeRegressor\n",
    "from tqdm import tqdm  # Importa tqdm per la barra di progresso\n",
    "\n",
    "# 1. Caricamento dei dati da CSV\n",
    "x_train = pd.read_csv('Dataset/Train/X_train_resampled.csv')\n",
    "y_train = pd.read_csv('Dataset/Train/y_train_resampled.csv')\n",
    "\n",
    "# 2. Selezioniamo solo la colonna 'trq_margin' come target\n",
    "y = y_train['trq_margin'].values\n",
    "\n",
    "# 3. Carichiamo le caratteristiche da x_train\n",
    "X = x_train.values  # Le caratteristiche (trq_measured, oat, mgt, ...)\n",
    "\n",
    "# 4. Suddivisione dei dati in training e test set\n",
    "X_train, X_test, y_train, y_test = train_test_split(X, y, test_size=0.2, random_state=42)\n",
    "\n",
    "# 5. Creazione del modello Decision Tree\n",
    "model = DecisionTreeRegressor(random_state=42)\n",
    "\n",
    "# 6. Addestramento del modello\n",
    "print(\"Inizio dell'addestramento del modello Decision Tree...\")\n",
    "model.fit(X_train, y_train)\n",
    "\n",
    "# 7. Predizione\n",
    "y_pred = model.predict(X_test)\n",
    "\n",
    "# 8. Valutazione\n",
    "mse = mean_squared_error(y_test, y_pred)\n",
    "r2 = r2_score(y_test, y_pred)\n",
    "\n",
    "print(f'Mean Squared Error: {mse}')\n",
    "print(f'R^2: {r2}')"
   ]
  }
 ],
 "metadata": {
  "kernelspec": {
   "display_name": "Python 3",
   "language": "python",
   "name": "python3"
  },
  "language_info": {
   "codemirror_mode": {
    "name": "ipython",
    "version": 3
   },
   "file_extension": ".py",
   "mimetype": "text/x-python",
   "name": "python",
   "nbconvert_exporter": "python",
   "pygments_lexer": "ipython3",
   "version": "3.12.7"
  }
 },
 "nbformat": 4,
 "nbformat_minor": 2
}
