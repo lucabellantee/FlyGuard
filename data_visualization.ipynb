{
 "cells": [
  {
   "cell_type": "code",
   "execution_count": 1,
   "metadata": {},
   "outputs": [],
   "source": [
    "import pandas as pd"
   ]
  },
  {
   "cell_type": "markdown",
   "metadata": {},
   "source": [
    "# Analisi dataset TRAINING"
   ]
  },
  {
   "cell_type": "code",
   "execution_count": 2,
   "metadata": {},
   "outputs": [
    {
     "name": "stderr",
     "output_type": "stream",
     "text": [
      "<>:3: SyntaxWarning: invalid escape sequence '\\T'\n",
      "<>:4: SyntaxWarning: invalid escape sequence '\\T'\n",
      "<>:3: SyntaxWarning: invalid escape sequence '\\T'\n",
      "<>:4: SyntaxWarning: invalid escape sequence '\\T'\n",
      "C:\\Users\\lucab\\AppData\\Local\\Temp\\ipykernel_11660\\2475431802.py:3: SyntaxWarning: invalid escape sequence '\\T'\n",
      "  train_path_X = \"Dataset\\Train\\X_train.csv\"\n",
      "C:\\Users\\lucab\\AppData\\Local\\Temp\\ipykernel_11660\\2475431802.py:4: SyntaxWarning: invalid escape sequence '\\T'\n",
      "  train_path_Y = \"Dataset\\Train\\Y_train.csv\"\n"
     ]
    }
   ],
   "source": [
    "# Caricamento dataset training\n",
    "\n",
    "train_path_X = \"Dataset\\Train\\X_train.csv\"\n",
    "train_path_Y = \"Dataset\\Train\\Y_train.csv\"\n",
    "\n",
    "df_x = pd.read_csv(train_path_X)\n",
    "df_y = pd.read_csv(train_path_Y)"
   ]
  },
  {
   "cell_type": "code",
   "execution_count": 3,
   "metadata": {},
   "outputs": [
    {
     "data": {
      "text/html": [
       "<div>\n",
       "<style scoped>\n",
       "    .dataframe tbody tr th:only-of-type {\n",
       "        vertical-align: middle;\n",
       "    }\n",
       "\n",
       "    .dataframe tbody tr th {\n",
       "        vertical-align: top;\n",
       "    }\n",
       "\n",
       "    .dataframe thead th {\n",
       "        text-align: right;\n",
       "    }\n",
       "</style>\n",
       "<table border=\"1\" class=\"dataframe\">\n",
       "  <thead>\n",
       "    <tr style=\"text-align: right;\">\n",
       "      <th></th>\n",
       "      <th>id</th>\n",
       "      <th>trq_measured</th>\n",
       "      <th>oat</th>\n",
       "      <th>mgt</th>\n",
       "      <th>pa</th>\n",
       "      <th>ias</th>\n",
       "      <th>np</th>\n",
       "      <th>ng</th>\n",
       "    </tr>\n",
       "  </thead>\n",
       "  <tbody>\n",
       "    <tr>\n",
       "      <th>0</th>\n",
       "      <td>0</td>\n",
       "      <td>54.100</td>\n",
       "      <td>2.00000</td>\n",
       "      <td>544.5000</td>\n",
       "      <td>212.1408</td>\n",
       "      <td>74.56250</td>\n",
       "      <td>89.18000</td>\n",
       "      <td>99.6400</td>\n",
       "    </tr>\n",
       "    <tr>\n",
       "      <th>1</th>\n",
       "      <td>1</td>\n",
       "      <td>49.625</td>\n",
       "      <td>24.22231</td>\n",
       "      <td>578.4844</td>\n",
       "      <td>1625.6400</td>\n",
       "      <td>30.35596</td>\n",
       "      <td>99.55273</td>\n",
       "      <td>91.3866</td>\n",
       "    </tr>\n",
       "    <tr>\n",
       "      <th>2</th>\n",
       "      <td>2</td>\n",
       "      <td>52.000</td>\n",
       "      <td>7.00000</td>\n",
       "      <td>566.1000</td>\n",
       "      <td>1912.9250</td>\n",
       "      <td>65.62500</td>\n",
       "      <td>100.14000</td>\n",
       "      <td>90.9600</td>\n",
       "    </tr>\n",
       "    <tr>\n",
       "      <th>3</th>\n",
       "      <td>3</td>\n",
       "      <td>62.400</td>\n",
       "      <td>7.25000</td>\n",
       "      <td>560.1000</td>\n",
       "      <td>277.0632</td>\n",
       "      <td>54.81250</td>\n",
       "      <td>90.64000</td>\n",
       "      <td>100.2800</td>\n",
       "    </tr>\n",
       "    <tr>\n",
       "      <th>4</th>\n",
       "      <td>4</td>\n",
       "      <td>62.900</td>\n",
       "      <td>23.25000</td>\n",
       "      <td>593.7000</td>\n",
       "      <td>53.6448</td>\n",
       "      <td>73.43750</td>\n",
       "      <td>99.91000</td>\n",
       "      <td>92.1700</td>\n",
       "    </tr>\n",
       "  </tbody>\n",
       "</table>\n",
       "</div>"
      ],
      "text/plain": [
       "   id  trq_measured       oat       mgt         pa       ias         np  \\\n",
       "0   0        54.100   2.00000  544.5000   212.1408  74.56250   89.18000   \n",
       "1   1        49.625  24.22231  578.4844  1625.6400  30.35596   99.55273   \n",
       "2   2        52.000   7.00000  566.1000  1912.9250  65.62500  100.14000   \n",
       "3   3        62.400   7.25000  560.1000   277.0632  54.81250   90.64000   \n",
       "4   4        62.900  23.25000  593.7000    53.6448  73.43750   99.91000   \n",
       "\n",
       "         ng  \n",
       "0   99.6400  \n",
       "1   91.3866  \n",
       "2   90.9600  \n",
       "3  100.2800  \n",
       "4   92.1700  "
      ]
     },
     "execution_count": 3,
     "metadata": {},
     "output_type": "execute_result"
    }
   ],
   "source": [
    "df_x.head()"
   ]
  },
  {
   "cell_type": "code",
   "execution_count": 4,
   "metadata": {},
   "outputs": [
    {
     "data": {
      "text/html": [
       "<div>\n",
       "<style scoped>\n",
       "    .dataframe tbody tr th:only-of-type {\n",
       "        vertical-align: middle;\n",
       "    }\n",
       "\n",
       "    .dataframe tbody tr th {\n",
       "        vertical-align: top;\n",
       "    }\n",
       "\n",
       "    .dataframe thead th {\n",
       "        text-align: right;\n",
       "    }\n",
       "</style>\n",
       "<table border=\"1\" class=\"dataframe\">\n",
       "  <thead>\n",
       "    <tr style=\"text-align: right;\">\n",
       "      <th></th>\n",
       "      <th>id</th>\n",
       "      <th>faulty</th>\n",
       "      <th>trq_margin</th>\n",
       "    </tr>\n",
       "  </thead>\n",
       "  <tbody>\n",
       "    <tr>\n",
       "      <th>0</th>\n",
       "      <td>0</td>\n",
       "      <td>1</td>\n",
       "      <td>-13.717745</td>\n",
       "    </tr>\n",
       "    <tr>\n",
       "      <th>1</th>\n",
       "      <td>1</td>\n",
       "      <td>0</td>\n",
       "      <td>1.791863</td>\n",
       "    </tr>\n",
       "    <tr>\n",
       "      <th>2</th>\n",
       "      <td>2</td>\n",
       "      <td>1</td>\n",
       "      <td>-13.944871</td>\n",
       "    </tr>\n",
       "    <tr>\n",
       "      <th>3</th>\n",
       "      <td>3</td>\n",
       "      <td>0</td>\n",
       "      <td>-0.017281</td>\n",
       "    </tr>\n",
       "    <tr>\n",
       "      <th>4</th>\n",
       "      <td>4</td>\n",
       "      <td>0</td>\n",
       "      <td>7.322404</td>\n",
       "    </tr>\n",
       "  </tbody>\n",
       "</table>\n",
       "</div>"
      ],
      "text/plain": [
       "   id  faulty  trq_margin\n",
       "0   0       1  -13.717745\n",
       "1   1       0    1.791863\n",
       "2   2       1  -13.944871\n",
       "3   3       0   -0.017281\n",
       "4   4       0    7.322404"
      ]
     },
     "execution_count": 4,
     "metadata": {},
     "output_type": "execute_result"
    }
   ],
   "source": [
    "df_y.head()"
   ]
  }
 ],
 "metadata": {
  "kernelspec": {
   "display_name": "Python 3",
   "language": "python",
   "name": "python3"
  },
  "language_info": {
   "codemirror_mode": {
    "name": "ipython",
    "version": 3
   },
   "file_extension": ".py",
   "mimetype": "text/x-python",
   "name": "python",
   "nbconvert_exporter": "python",
   "pygments_lexer": "ipython3",
   "version": "3.12.2"
  }
 },
 "nbformat": 4,
 "nbformat_minor": 2
}
